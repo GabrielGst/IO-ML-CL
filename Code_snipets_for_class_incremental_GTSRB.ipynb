{
  "cells": [
    {
      "cell_type": "markdown",
      "metadata": {
        "id": "ZQjHV8nwSu0E"
      },
      "source": [
        "\n",
        "\n",
        "---\n",
        "\n",
        "\n",
        "# Class incremental learning on the GTSRB dataset\n",
        "\n",
        "\n",
        "\n",
        "---\n",
        "\n",
        "\n",
        "This notebook contains several code snippets to help for your project:\n",
        "\n",
        "- data loaders\n",
        "- A baseline for incremental learning using fine-tuning\n",
        "- Examples of how to use Weight & Biases for logging your results.\n",
        "\n"
      ]
    },
    {
      "cell_type": "code",
      "execution_count": 54,
      "metadata": {
        "id": "c6J4ap8k7k79"
      },
      "outputs": [],
      "source": [
        "####################################\n",
        "### Useful imports\n",
        "############################\n",
        "\n",
        "import torch\n",
        "import torch.nn as nn\n",
        "import torch.nn.init as init\n",
        "import torch.optim as optim\n",
        "import torch.nn.functional as F\n",
        "from torch.utils.data import DataLoader, ConcatDataset, Subset\n",
        "from torchvision.utils import make_grid\n",
        "from torchvision import transforms, datasets\n",
        "import torchvision.models as models\n",
        "from torchvision.transforms import v2\n",
        "import copy\n",
        "\n",
        "import numpy as np\n",
        "import random\n",
        "import time, os\n",
        "import matplotlib.pyplot as plt\n",
        "from PIL import Image\n",
        "from tqdm import tqdm\n",
        "import pandas as pd\n",
        "import math\n",
        "\n",
        "device = torch.device(\"cuda:0\" if torch.cuda.is_available() else \"cpu\")\n"
      ]
    },
    {
      "cell_type": "code",
      "execution_count": 55,
      "metadata": {
        "colab": {
          "base_uri": "https://localhost:8080/"
        },
        "id": "BdBUgULZ-75F",
        "outputId": "740ec5d2-43b5-4e33-e2c6-c29506d7389d"
      },
      "outputs": [],
      "source": [
        "# # Useful if you want to store intermediate results on your drive\n",
        "# from google.colab import drive\n",
        "\n",
        "# # Useful if you want to store intermediate results on your drive from google.colab import drive\n",
        "\n",
        "# drive.mount('/content/gdrive/')\n",
        "# DATA_DIR =  '/content/gdrive/MyDrive/teaching/ENSTA/2024'\n"
      ]
    },
    {
      "cell_type": "code",
      "execution_count": 56,
      "metadata": {
        "colab": {
          "base_uri": "https://localhost:8080/"
        },
        "id": "mLLmoj5nhhli",
        "outputId": "543e10ae-e0b2-4668-ec87-4afec9b5b206"
      },
      "outputs": [],
      "source": [
        "# Check if GPU is available\n",
        "if torch.cuda.is_available():\n",
        "  !nvidia-smi"
      ]
    },
    {
      "cell_type": "markdown",
      "metadata": {
        "id": "zdRoUYxVqicA"
      },
      "source": [
        "## Data loaders"
      ]
    },
    {
      "cell_type": "code",
      "execution_count": 57,
      "metadata": {
        "id": "5yjcnoUN7xVJ"
      },
      "outputs": [],
      "source": [
        "# Define transformations\n",
        "transform_train = transforms.Compose([\n",
        "    transforms.RandomResizedCrop(32),\n",
        "    transforms.RandomHorizontalFlip(),\n",
        "    transforms.ToTensor(),\n",
        "    #transforms.Normalize((0.3403, 0.3121, 0.3214), (0.2724, 0.2608, 0.2669)) # GTSRB stats\n",
        "])\n",
        "\n",
        "transform_test = transforms.Compose([\n",
        "    transforms.Resize(32),\n",
        "    transforms.ToTensor(),\n",
        "    #transforms.Normalize((0.3403, 0.3121, 0.3214), (0.2724, 0.2608, 0.2669))\n",
        "])\n",
        "\n",
        "transform_train = v2.Compose([\n",
        "    #v2.Grayscale(),\n",
        "    #v2.RandomResizedCrop(32),\n",
        "    v2.Resize((32,32)),\n",
        "    v2.ToImage(),\n",
        "    v2.ToDtype(torch.float32, scale=True),\n",
        "    #v2.Normalize((0.3403, 0.3121, 0.3214), (0.2724, 0.2608, 0.2669)) # GTSRB stats\n",
        "])\n",
        "\n",
        "transform_test = v2.Compose([\n",
        "    #v2.Grayscale(),\n",
        "    v2.Resize((32,32)),\n",
        "    v2.ToImage(),\n",
        "    v2.ToDtype(torch.float32, scale=True),\n",
        "    #v2.Normalize((0.3403, 0.3121, 0.3214), (0.2724, 0.2608, 0.2669)) # GTSRB stats\n",
        "])\n",
        "\n",
        "# Define dataset and dataloader\n",
        "def get_dataset(root_dir, transform, train=True):\n",
        "    dataset = datasets.GTSRB(root=root_dir, split='train' if train else 'test', download=True, transform=transform)\n",
        "    target = [data[1] for data in dataset]\n",
        "    return dataset, target\n",
        "\n",
        "def create_dataloader(dataset, targets, current_classes, batch_size, shuffle):\n",
        "    indices = [i for i, label in enumerate(targets) if label in current_classes]\n",
        "    subset = Subset(dataset, indices)\n",
        "    dataloader = DataLoader(subset, batch_size=batch_size, shuffle=shuffle)\n",
        "    return dataloader\n"
      ]
    },
    {
      "cell_type": "code",
      "execution_count": 58,
      "metadata": {
        "colab": {
          "base_uri": "https://localhost:8080/"
        },
        "id": "KbdRiiin8q6n",
        "outputId": "6021e211-fb58-4da8-da80-15867829cb14"
      },
      "outputs": [
        {
          "name": "stdout",
          "output_type": "stream",
          "text": [
            "Train dataset contains 26640 images\n",
            "Test dataset contains 12630 images\n"
          ]
        }
      ],
      "source": [
        "# Loads datasets (on your local computer)\n",
        "root_dir = '/home/stephane/Documents/Onera/Cours/ENSTA/2025/data'\n",
        "\n",
        "# Loads datasets (on Colab local computer)\n",
        "root_dir = './data'\n",
        "\n",
        "train_dataset = datasets.GTSRB(root=root_dir, split='train', download=True, transform=transform_train)\n",
        "test_dataset = datasets.GTSRB(root=root_dir, split='test', download=True, transform=transform_test)\n",
        "\n",
        "print(f\"Train dataset contains {len(train_dataset)} images\")\n",
        "print(f\"Test dataset contains {len(test_dataset)} images\")\n",
        "\n",
        "# Loads target id lists and class names (not in torchvision dataset)\n",
        "import csv\n",
        "data = pd.read_csv('https://raw.githubusercontent.com/stepherbin/teaching/refs/heads/master/IOGS/projet/test_target.csv', delimiter=',', header=None)\n",
        "test_target = data.to_numpy().squeeze().tolist()\n",
        "\n",
        "data = pd.read_csv('https://raw.githubusercontent.com/stepherbin/teaching/refs/heads/master/IOGS/projet/train_target.csv', delimiter=',', header=None)\n",
        "train_target = data.to_numpy().squeeze().tolist()\n",
        "\n",
        "data = pd.read_csv('https://raw.githubusercontent.com/stepherbin/teaching/refs/heads/master/IOGS/projet/signnames.csv')\n",
        "class_names = data['SignName'].tolist()"
      ]
    },
    {
      "cell_type": "markdown",
      "metadata": {
        "id": "G9om6EjQqqVD"
      },
      "source": [
        "## Display of images"
      ]
    },
    {
      "cell_type": "code",
      "execution_count": 59,
      "metadata": {
        "colab": {
          "base_uri": "https://localhost:8080/",
          "height": 452
        },
        "id": "IIrmJhgmcL8u",
        "outputId": "43f9c873-694f-48aa-de17-25fb0943e00e"
      },
      "outputs": [
        {
          "data": {
            "image/png": "[encoded data removed]",
            "text/plain": [
              "<Figure size 640x480 with 1 Axes>"
            ]
          },
          "metadata": {},
          "output_type": "display_data"
        },
        {
          "name": "stdout",
          "output_type": "stream",
          "text": [
            "torch.Size([64, 3, 32, 32])\n"
          ]
        }
      ],
      "source": [
        "nclasses = len(np.unique(train_target))\n",
        "all_classes = list(range(nclasses))\n",
        "#random.shuffle(all_classes)\n",
        "classes_per_task = 8\n",
        "current_classes = []\n",
        "\n",
        "task = 0\n",
        "task_classes = all_classes[task * classes_per_task : (task + 1) * classes_per_task]\n",
        "current_classes.extend(task_classes)\n",
        "batch_size = 64\n",
        "\n",
        "# Create data for first task\n",
        "train_loader = create_dataloader(train_dataset, train_target, current_classes, batch_size, shuffle = True)\n",
        "test_loader = create_dataloader(train_dataset, train_target, current_classes, batch_size, shuffle = True)\n",
        "\n",
        "# Displays a few examples\n",
        "def show(img):\n",
        "    npimg = img.numpy()\n",
        "    plt.imshow(np.transpose(npimg, (1,2,0)), interpolation='nearest')\n",
        "\n",
        "sample,targets = next(iter(train_loader))\n",
        "show(make_grid(sample))\n",
        "plt.show()\n",
        "\n",
        "print(sample.shape)     ## 64 is the batch\n",
        "                        ## 1 for grey values --  3 for RGB\n",
        "                        ## 32x32 for mage size (small here)\n"
      ]
    },
    {
      "cell_type": "code",
      "execution_count": 60,
      "metadata": {
        "colab": {
          "base_uri": "https://localhost:8080/"
        },
        "id": "RrkguKhbC4uo",
        "outputId": "430c0d5e-cdc0-41e9-cd8d-49a4d239a3de"
      },
      "outputs": [
        {
          "name": "stdout",
          "output_type": "stream",
          "text": [
            "750 \t 2 \t Speed limit (50km/h)\n",
            "720 \t 1 \t Speed limit (30km/h)\n",
            "720 \t 13 \t Yield\n",
            "690 \t 38 \t Keep right\n",
            "690 \t 12 \t Priority road\n",
            "660 \t 4 \t Speed limit (70km/h)\n",
            "660 \t 10 \t No passing for vechiles over 3.5 metric tons\n",
            "630 \t 5 \t Speed limit (80km/h)\n",
            "480 \t 25 \t Road work\n",
            "480 \t 9 \t No passing\n",
            "450 \t 7 \t Speed limit (100km/h)\n",
            "450 \t 3 \t Speed limit (60km/h)\n",
            "450 \t 8 \t Speed limit (120km/h)\n",
            "420 \t 11 \t Right-of-way at the next intersection\n",
            "390 \t 18 \t General caution\n",
            "390 \t 35 \t Ahead only\n",
            "360 \t 17 \t No entry\n",
            "270 \t 14 \t Stop\n",
            "270 \t 31 \t Wild animals crossing\n",
            "210 \t 33 \t Turn right ahead\n",
            "210 \t 15 \t No vechiles\n",
            "180 \t 26 \t Traffic signals\n",
            "150 \t 16 \t Vechiles over 3.5 metric tons prohibited\n",
            "150 \t 23 \t Slippery road\n",
            "150 \t 30 \t Beware of ice/snow\n",
            "150 \t 28 \t Children crossing\n",
            "150 \t 6 \t End of speed limit (80km/h)\n",
            "120 \t 34 \t Turn left ahead\n",
            "120 \t 22 \t Bumpy road\n",
            "120 \t 36 \t Go straight or right\n",
            "90 \t 21 \t Double curve\n",
            "90 \t 20 \t Dangerous curve to the right\n",
            "90 \t 24 \t Road narrows on the right\n",
            "90 \t 29 \t Bicycles crossing\n",
            "90 \t 40 \t Roundabout mandatory\n",
            "90 \t 39 \t Keep left\n",
            "90 \t 42 \t End of no passing by vechiles over 3.5 metric tons\n",
            "60 \t 27 \t Pedestrians\n",
            "60 \t 32 \t End of all speed and passing limits\n",
            "60 \t 41 \t End of no passing\n",
            "60 \t 19 \t Dangerous curve to the left\n",
            "60 \t 0 \t Speed limit (20km/h)\n",
            "60 \t 37 \t Go straight or left\n"
          ]
        }
      ],
      "source": [
        "test_loader = create_dataloader(train_dataset, train_target, all_classes, batch_size, shuffle = True)\n",
        "\n",
        "# Get the data from the test set and computes statistics\n",
        "# gtsrbtest_gt = []\n",
        "# for _, targets in test_loader:\n",
        "#   gtsrbtest_gt += targets.numpy().tolist()\n",
        "# print(len(gtsrbtest_gt))\n",
        "\n",
        "from collections import Counter\n",
        "\n",
        "label_counts = Counter(test_target).most_common()\n",
        "for l, c in label_counts:\n",
        "    print(c, '\\t', l, '\\t', class_names[l])"
      ]
    },
    {
      "cell_type": "markdown",
      "metadata": {
        "id": "SPAkBgRiqyyf"
      },
      "source": [
        "## Simple networks"
      ]
    },
    {
      "cell_type": "code",
      "execution_count": 61,
      "metadata": {
        "id": "0z2ycNRS-xnq"
      },
      "outputs": [],
      "source": [
        "# Define a simple CNN model\n",
        "class SimpleCNN(nn.Module):\n",
        "    def __init__(self,n_out=10, n_in=1):\n",
        "        super().__init__()\n",
        "\n",
        "        # Put the layers here\n",
        "        self.conv1 = nn.Conv2d(n_in, 32, kernel_size=5, padding=2)\n",
        "        self.conv2 = nn.Conv2d(32, 64, kernel_size=3, padding=1)\n",
        "        self.conv3 = nn.Conv2d(64, 64, kernel_size=3, padding=1)\n",
        "\n",
        "        self.fc = nn.Linear(4096, n_out)\n",
        "\n",
        "    def forward(self, x):\n",
        "        x = F.leaky_relu(self.conv1(x)) ## l'image 1x32x32 devient 32x32x32\n",
        "        x = F.max_pool2d(x, kernel_size=2, stride=2) ## puis 32x16x16\n",
        "        x = F.leaky_relu(self.conv2(x)) ## puis devient 64x16x16\n",
        "        x = F.max_pool2d(x, kernel_size=2, stride=2) ## puis devient 64x8x8\n",
        "        x = F.leaky_relu(self.conv3(x)) ## pas de changement\n",
        "\n",
        "        x = x.view(-1,4096) ## 64x8x8 devient 4096\n",
        "\n",
        "        x = self.fc(x) ## on finit exactement de la même façon\n",
        "\n",
        "        return x\n",
        "\n",
        "# Another simple model (compare them using torchinfo below)\n",
        "class SimpleCNN2(nn.Module):\n",
        "    def __init__(self, n_out=10, n_in=1):\n",
        "        super(SimpleCNN2, self).__init__()\n",
        "        self.conv1 = nn.Conv2d(n_in, 32, kernel_size=3, padding=1)\n",
        "        self.conv2 = nn.Conv2d(32, 64, kernel_size=3, padding=1)\n",
        "        self.fc1 = nn.Linear(64 * 8 * 8, 128)\n",
        "        self.fc = nn.Linear(128, n_out)\n",
        "        self.pool = nn.MaxPool2d(2, 2)\n",
        "        self.relu = nn.ReLU()\n",
        "\n",
        "    def forward(self, x):\n",
        "        x = self.pool(self.relu(self.conv1(x)))\n",
        "        x = self.pool(self.relu(self.conv2(x)))\n",
        "        x = x.view(-1, 64 * 8 * 8)  # Flatten the tensor\n",
        "        x = self.relu(self.fc1(x))\n",
        "        x = self.fc(x)\n",
        "        return x"
      ]
    },
    {
      "cell_type": "code",
      "execution_count": 62,
      "metadata": {
        "colab": {
          "base_uri": "https://localhost:8080/"
        },
        "id": "_gIfiLiF-vhv",
        "outputId": "0a16f72f-f2c5-44ad-f206-db937a8fbe80"
      },
      "outputs": [
        {
          "name": "stderr",
          "output_type": "stream",
          "text": [
            "1832149.08s - pydevd: Sending message related to process being replaced timed-out after 5 seconds\n"
          ]
        },
        {
          "name": "stdout",
          "output_type": "stream",
          "text": [
            "Requirement already satisfied: torchinfo in /Users/nada/Desktop/IO-ML-CL/.venv/lib/python3.8/site-packages (1.8.0)\n",
            "==========================================================================================\n",
            "Layer (type:depth-idx)                   Output Shape              Param #\n",
            "==========================================================================================\n",
            "SimpleCNN2                               [64, 10]                  --\n",
            "├─Conv2d: 1-1                            [64, 32, 32, 32]          896\n",
            "├─ReLU: 1-2                              [64, 32, 32, 32]          --\n",
            "├─MaxPool2d: 1-3                         [64, 32, 16, 16]          --\n",
            "├─Conv2d: 1-4                            [64, 64, 16, 16]          18,496\n",
            "├─ReLU: 1-5                              [64, 64, 16, 16]          --\n",
            "├─MaxPool2d: 1-6                         [64, 64, 8, 8]            --\n",
            "├─Linear: 1-7                            [64, 128]                 524,416\n",
            "├─ReLU: 1-8                              [64, 128]                 --\n",
            "├─Linear: 1-9                            [64, 10]                  1,290\n",
            "==========================================================================================\n",
            "Total params: 545,098\n",
            "Trainable params: 545,098\n",
            "Non-trainable params: 0\n",
            "Total mult-adds (M): 395.40\n",
            "==========================================================================================\n",
            "Input size (MB): 0.79\n",
            "Forward/backward pass size (MB): 25.24\n",
            "Params size (MB): 2.18\n",
            "Estimated Total Size (MB): 28.20\n",
            "==========================================================================================\n",
            "==========================================================================================\n",
            "Layer (type:depth-idx)                   Output Shape              Param #\n",
            "==========================================================================================\n",
            "SimpleCNN                                [64, 10]                  --\n",
            "├─Conv2d: 1-1                            [64, 32, 32, 32]          2,432\n",
            "├─Conv2d: 1-2                            [64, 64, 16, 16]          18,496\n",
            "├─Conv2d: 1-3                            [64, 64, 8, 8]            36,928\n",
            "├─Linear: 1-4                            [64, 10]                  40,970\n",
            "==========================================================================================\n",
            "Total params: 98,826\n",
            "Trainable params: 98,826\n",
            "Non-trainable params: 0\n",
            "Total mult-adds (M): 616.30\n",
            "==========================================================================================\n",
            "Input size (MB): 0.79\n",
            "Forward/backward pass size (MB): 27.27\n",
            "Params size (MB): 0.40\n",
            "Estimated Total Size (MB): 28.45\n",
            "==========================================================================================\n"
          ]
        }
      ],
      "source": [
        "!pip install torchinfo\n",
        "from torchinfo import summary\n",
        "\n",
        "model = SimpleCNN2(n_out=10, n_in=3)\n",
        "model.to(device)\n",
        "print(summary(model, input_size=(batch_size, 3, 32, 32)))\n",
        "\n",
        "model = SimpleCNN(n_out=10, n_in=3)\n",
        "model.to(device)\n",
        "print(summary(model, input_size=(batch_size, 3, 32, 32)))\n",
        "\n",
        "#print(model)"
      ]
    },
    {
      "cell_type": "markdown",
      "metadata": {
        "id": "f04OhO2GkqzO"
      },
      "source": [
        "## Baseline for incremental learning"
      ]
    },
    {
      "cell_type": "code",
      "execution_count": 63,
      "metadata": {
        "id": "WuVL2YbW4T_a"
      },
      "outputs": [],
      "source": [
        "from torch.optim import lr_scheduler\n",
        "import torch.nn.init as init\n",
        "\n",
        "# Evaluation\n",
        "def evaluate(model, test_loader, device):\n",
        "    model.eval()\n",
        "    correct = 0\n",
        "    total = 0\n",
        "    with torch.no_grad():\n",
        "        for images, labels in tqdm(test_loader, ncols=80):\n",
        "            images, labels = images.to(device), labels.to(device)\n",
        "            outputs = model(images)\n",
        "            _, predicted = torch.max(outputs.data, 1)\n",
        "            total += labels.size(0)\n",
        "            correct += (predicted == labels).sum().item()\n",
        "    return 100 * correct / total\n",
        "\n",
        "# Simple Training loop\n",
        "def train(model, train_loader, optimizer, criterion, device, epoch):\n",
        "    model.train()\n",
        "\n",
        "    for images, labels in tqdm(train_loader, ncols=80,  desc=\"Epoch {}\".format(epoch)):   #ajouter d'autres données, techniques memory buffer,\n",
        "        images, labels = images.to(device), labels.to(device)\n",
        "        optimizer.zero_grad()\n",
        "        outputs = model(images)\n",
        "        \n",
        "        \n",
        "        loss = criterion(outputs, labels)\n",
        "        loss.backward()\n",
        "        optimizer.step()\n",
        "\n",
        "def initialize_weights(module):\n",
        "    \"\"\"Initializes the weights of a PyTorch module using Xavier/Glorot initialization.\"\"\"\n",
        "    if isinstance(module, (nn.Linear, nn.Conv2d, nn.ConvTranspose2d)):  # Check for relevant layers\n",
        "        init.xavier_uniform_(module.weight) #Xavier uniform initialization\n",
        "        if module.bias is not None:\n",
        "            init.zeros_(module.bias)  # Initialize bias to zero\n",
        "    elif isinstance(module, (nn.BatchNorm2d, nn.LayerNorm, nn.GroupNorm)): #Initialize normalization layers\n",
        "        if module.weight is not None:\n",
        "            init.ones_(module.weight)\n",
        "        if module.bias is not None:\n",
        "            init.zeros_(module.bias)\n",
        "\n",
        "\n",
        "# Main training loop for incremental learning\n",
        "def incremental_learning(model, train_dataset, train_target, test_dataset, test_target,\n",
        "                         num_tasks, classes_per_task, batch_size, num_epochs, lr, device):\n",
        "    nclasses = len(np.unique(train_target))\n",
        "    all_classes = list(range(nclasses))\n",
        "    criterion = nn.CrossEntropyLoss() #peut être changé comme critère\n",
        "    current_classes = []\n",
        "    accuracies = []\n",
        "\n",
        "    for task in range(num_tasks):\n",
        "        task_classes = all_classes[task * classes_per_task : (task + 1) * classes_per_task]\n",
        "        current_classes.extend(task_classes)\n",
        "\n",
        "        train_loader = create_dataloader(train_dataset, train_target, task_classes, batch_size, shuffle = True)\n",
        "        test_loader = create_dataloader(test_dataset, test_target, current_classes, batch_size, shuffle = False)\n",
        "\n",
        "        if task == 0:\n",
        "            model.fc = nn.Linear(model.fc.in_features, len(current_classes)).to(device)\n",
        "        else:\n",
        "            # Expand the output layer for new classes\n",
        "            old_weight = model.fc.weight.data\n",
        "            old_bias = model.fc.bias.data\n",
        "            model.fc = nn.Linear(model.fc.in_features, len(current_classes)).to(device)\n",
        "            model.fc.weight.data[:len(old_weight)] = old_weight\n",
        "            model.fc.bias.data[:len(old_bias)] = old_bias\n",
        "\n",
        "        optimizer = optim.SGD(model.parameters(), lr=lr, momentum=0.9, weight_decay=5e-4)\n",
        "        optimizer = torch.optim.Adam(model.parameters(), lr=lr)\n",
        "        scheduler = lr_scheduler.StepLR(optimizer, step_size=5, gamma=0.5)\n",
        "\n",
        "        print(f\"Starting Task {task+1} - Training on classes: {task_classes}\")\n",
        "        for epoch in range(num_epochs): # Adjust number of epochs as needed\n",
        "            train(model, train_loader, optimizer, criterion, device, epoch)\n",
        "            scheduler.step()\n",
        "            accuracy = evaluate(model, train_loader, device)\n",
        "            print(f\"Task {task+1}, Epoch {epoch+1}: Accuracy Train = {accuracy:.2f}%\")\n",
        "        accuracy = evaluate(model, test_loader, device)\n",
        "        accuracies.append(accuracy)\n",
        "        print(f\"Task {task+1}: Accuracy Test = {accuracy:.2f}%\")\n",
        "\n",
        "    return accuracies\n",
        "\n"
      ]
    },
    {
      "cell_type": "markdown",
      "metadata": {},
      "source": [
        "## Incremental Learning with Rehearsal and Knowledge Distillation\n",
        "\n",
        "This section implements an incremental learning strategy that introduces new road sign classes sequentially while minimizing catastrophic forgetting. The approach combines:\n",
        "\n",
        "1. Rehearsal : A memory buffer stores a subset of previous examples to retain past knowledge.\n",
        "2. Knowledge Distillation (KD) : The model leverages outputs from an earlier version to maintain performance on previously learned classes.\n",
        "\n",
        "The method is tested with and without Weights & Biases (WandB) logging to track performance across tasks. The evaluation metric is incremental accuracy, measuring the model's ability to recognize all previously seen classes as new ones are added."
      ]
    },
    {
      "cell_type": "code",
      "execution_count": 72,
      "metadata": {},
      "outputs": [],
      "source": [
        "#Memory Buffer Class\n",
        "class MemoryBuffer:\n",
        "    \"\"\"\n",
        "    A memory buffer to store previous examples for rehearsal.\n",
        "    \"\"\"\n",
        "    def __init__(self, buffer_size):\n",
        "        self.buffer_size = buffer_size\n",
        "        self.images = []\n",
        "        self.labels = []\n",
        "        self.class_indices = {}  # To keep track of examples per class\n",
        "        \n",
        "    def update(self, images, labels, new_classes):\n",
        "        \"\"\"Update buffer with new examples, maintaining balanced classes.\"\"\"\n",
        "        # Convert tensors to numpy for storage if needed\n",
        "        if isinstance(images, torch.Tensor):\n",
        "            images_np = images.cpu().numpy()\n",
        "        else:\n",
        "            images_np = images\n",
        "            \n",
        "        if isinstance(labels, torch.Tensor):\n",
        "            labels_np = labels.cpu().numpy()\n",
        "        else:\n",
        "            labels_np = labels\n",
        "        \n",
        "        # Initialize class indices for new classes\n",
        "        for cls in new_classes:\n",
        "            if cls not in self.class_indices:\n",
        "                self.class_indices[cls] = []\n",
        "        \n",
        "        # Add new examples to buffer\n",
        "        for i, (image, label) in enumerate(zip(images_np, labels_np)):\n",
        "            if label in new_classes:\n",
        "                self.images.append(image)\n",
        "                self.labels.append(label)\n",
        "                self.class_indices[label].append(len(self.images) - 1)\n",
        "        \n",
        "        # Ensure buffer doesn't exceed size limit by randomly removing samples\n",
        "        self._balance_buffer()\n",
        "    \n",
        "    def _balance_buffer(self):\n",
        "        \"\"\"Balance the buffer to ensure equal representation of classes.\"\"\"\n",
        "        if len(self.images) <= self.buffer_size:\n",
        "            return\n",
        "        \n",
        "        # Calculate how many samples per class we should keep\n",
        "        num_classes = len(self.class_indices)\n",
        "        samples_per_class = self.buffer_size // num_classes\n",
        "        \n",
        "        # Select indices to keep\n",
        "        indices_to_keep = []\n",
        "        for cls, idx_list in self.class_indices.items():\n",
        "            if len(idx_list) > samples_per_class:\n",
        "                # Randomly select samples for this class\n",
        "                selected = random.sample(idx_list, samples_per_class)\n",
        "                indices_to_keep.extend(selected)\n",
        "            else:\n",
        "                # Keep all samples for this class\n",
        "                indices_to_keep.extend(idx_list)\n",
        "        \n",
        "        # If we still haven't filled the buffer, add more samples randomly\n",
        "        remaining_slots = self.buffer_size - len(indices_to_keep)\n",
        "        if remaining_slots > 0:\n",
        "            remaining_indices = [i for i in range(len(self.images)) if i not in indices_to_keep]\n",
        "            if remaining_indices:\n",
        "                additional_indices = random.sample(remaining_indices, min(remaining_slots, len(remaining_indices)))\n",
        "                indices_to_keep.extend(additional_indices)\n",
        "        \n",
        "        # Keep only the selected indices\n",
        "        new_images = [self.images[i] for i in indices_to_keep]\n",
        "        new_labels = [self.labels[i] for i in indices_to_keep]\n",
        "        \n",
        "        # Update the buffer\n",
        "        self.images = new_images\n",
        "        self.labels = new_labels\n",
        "        \n",
        "        # Update class indices\n",
        "        self.class_indices = {}\n",
        "        for i, label in enumerate(self.labels):\n",
        "            if label not in self.class_indices:\n",
        "                self.class_indices[label] = []\n",
        "            self.class_indices[label].append(i)\n",
        "    \n",
        "    def get_batch(self, batch_size):\n",
        "        \"\"\"Get a random batch from the buffer.\"\"\"\n",
        "        if len(self.images) == 0:\n",
        "            return None, None\n",
        "        \n",
        "        indices = random.sample(range(len(self.images)), min(batch_size, len(self.images)))\n",
        "        batch_images = [self.images[i] for i in indices]\n",
        "        batch_labels = [self.labels[i] for i in indices]\n",
        "        \n",
        "        return torch.tensor(batch_images), torch.tensor(batch_labels)\n",
        "    \n",
        "    def __len__(self):\n",
        "        return len(self.images)\n",
        "\n",
        "\n",
        "#Knowledge Distillation Loss\n",
        "def distillation_loss(outputs, targets, old_outputs, T=2.0, alpha=0.5):\n",
        "    \"\"\"\n",
        "    Compute the knowledge distillation loss.\n",
        "    \n",
        "    Args:\n",
        "        outputs: Current model outputs\n",
        "        targets: Ground truth labels\n",
        "        old_outputs: Outputs from the old model (before learning new classes)\n",
        "        T: Temperature for softening the distributions\n",
        "        alpha: Weight for balancing classification loss and distillation loss\n",
        "    \n",
        "    Returns:\n",
        "        Combined loss: classification loss + distillation loss\n",
        "    \"\"\"\n",
        "    # Standard cross entropy loss\n",
        "    ce_loss = F.cross_entropy(outputs, targets)\n",
        "    \n",
        "    # Knowledge distillation loss\n",
        "    if old_outputs is not None:\n",
        "        # Apply temperature scaling\n",
        "        scaled_outputs = outputs[:, :old_outputs.size(1)] / T\n",
        "        scaled_old_outputs = old_outputs / T\n",
        "        \n",
        "        # Compute KL divergence loss\n",
        "        kd_loss = F.kl_div(\n",
        "            F.log_softmax(scaled_outputs, dim=1),\n",
        "            F.softmax(scaled_old_outputs, dim=1),\n",
        "            reduction='batchmean'\n",
        "        ) * (T * T)\n",
        "        \n",
        "        # Combine losses\n",
        "        return alpha * ce_loss + (1 - alpha) * kd_loss\n",
        "    else:\n",
        "        return ce_loss\n",
        "\n",
        "\n",
        "#Training with Rehearsal and Knowledge Distillation\n",
        "def train_rehearsal_kd(model, old_model, train_loader, memory_buffer, optimizer, device, epoch, \n",
        "                       alpha=0.5, T=2.0, rehearsal_ratio=0.3):\n",
        "    \"\"\"\n",
        "    Training loop with rehearsal and knowledge distillation.\n",
        "    \n",
        "    Args:\n",
        "        model: Current model being trained\n",
        "        old_model: Model from previous task (for knowledge distillation)\n",
        "        train_loader: DataLoader for current task data\n",
        "        memory_buffer: Memory buffer containing examples from previous tasks\n",
        "        optimizer: Optimizer for model parameters\n",
        "        device: Device to run computation on\n",
        "        epoch: Current epoch number\n",
        "        alpha: Weight for balancing classification and distillation loss\n",
        "        T: Temperature for knowledge distillation\n",
        "        rehearsal_ratio: Ratio of rehearsal batch size to current batch size\n",
        "    \"\"\"\n",
        "    model.train()\n",
        "    if old_model is not None:\n",
        "        old_model.eval()\n",
        "    \n",
        "    for images, labels in tqdm(train_loader, ncols=80, desc=f\"Epoch {epoch}\"):\n",
        "        images, labels = images.to(device), labels.to(device)\n",
        "        \n",
        "        # Add rehearsal data if available\n",
        "        if memory_buffer is not None and len(memory_buffer) > 0:\n",
        "            rehearsal_batch_size = max(1, int(images.size(0) * rehearsal_ratio))\n",
        "            mem_images, mem_labels = memory_buffer.get_batch(rehearsal_batch_size)\n",
        "            \n",
        "            if mem_images is not None and mem_images.size(0) > 0:\n",
        "                mem_images, mem_labels = mem_images.to(device), mem_labels.to(device)\n",
        "                combined_images = torch.cat([images, mem_images], dim=0)\n",
        "                combined_labels = torch.cat([labels, mem_labels], dim=0)\n",
        "            else:\n",
        "                combined_images, combined_labels = images, labels\n",
        "        else:\n",
        "            combined_images, combined_labels = images, labels\n",
        "        \n",
        "        # Forward pass\n",
        "        optimizer.zero_grad()\n",
        "        outputs = model(combined_images)\n",
        "        \n",
        "        # Compute knowledge distillation loss if old model exists\n",
        "        if old_model is not None:\n",
        "            with torch.no_grad():\n",
        "                old_outputs = old_model(combined_images)\n",
        "            loss = distillation_loss(outputs, combined_labels, old_outputs, T=T, alpha=alpha)\n",
        "        else:\n",
        "            loss = F.cross_entropy(outputs, combined_labels)\n",
        "        \n",
        "        # Backward pass and optimization\n",
        "        loss.backward()\n",
        "        optimizer.step()\n",
        "\n",
        "\n",
        "#Incremental Learning with Rehearsal and KD\n",
        "def incremental_learning_rehearsal_kd(model, train_dataset, train_target, test_dataset, test_target,\n",
        "                                     num_tasks, classes_per_task, batch_size, num_epochs, lr, device,\n",
        "                                     buffer_size=200, alpha=0.5, T=2.0):\n",
        "    \"\"\"\n",
        "    Incremental learning with rehearsal and knowledge distillation.\n",
        "    \n",
        "    Args:\n",
        "        model: Model to be trained\n",
        "        train_dataset, train_target: Training data and targets\n",
        "        test_dataset, test_target: Test data and targets\n",
        "        num_tasks: Number of tasks to learn sequentially\n",
        "        classes_per_task: Number of classes in each task\n",
        "        batch_size: Batch size for training\n",
        "        num_epochs: Number of epochs per task\n",
        "        lr: Learning rate\n",
        "        device: Device to run computation on\n",
        "        buffer_size: Size of memory buffer for rehearsal\n",
        "        alpha: Weight for balancing classification and distillation loss\n",
        "        T: Temperature for knowledge distillation\n",
        "    \"\"\"\n",
        "    nclasses = len(np.unique(train_target))\n",
        "    all_classes = list(range(nclasses))\n",
        "    current_classes = []\n",
        "    accuracies = []\n",
        "    \n",
        "    # Initialize memory buffer\n",
        "    memory_buffer = MemoryBuffer(buffer_size)\n",
        "    \n",
        "    for task in range(num_tasks):\n",
        "        # Define classes for the current task\n",
        "        task_classes = all_classes[task * classes_per_task : (task + 1) * classes_per_task]\n",
        "        current_classes.extend(task_classes)\n",
        "        \n",
        "        # Create data loaders\n",
        "        train_loader = create_dataloader(train_dataset, train_target, task_classes, batch_size, shuffle=True)\n",
        "        test_loader = create_dataloader(test_dataset, test_target, current_classes, batch_size, shuffle=False)\n",
        "        \n",
        "        # Create a copy of the current model before task learning (for knowledge distillation)\n",
        "        old_model = copy.deepcopy(model) if task > 0 else None\n",
        "        if old_model is not None:\n",
        "            old_model.eval()  # Set to evaluation mode\n",
        "        \n",
        "        # Modify the model's output layer for new classes\n",
        "        if task == 0:\n",
        "            model.fc = nn.Linear(model.fc.in_features, len(current_classes)).to(device)\n",
        "        else:\n",
        "            # Expand the output layer for new classes\n",
        "            old_weight = model.fc.weight.data\n",
        "            old_bias = model.fc.bias.data\n",
        "            model.fc = nn.Linear(model.fc.in_features, len(current_classes)).to(device)\n",
        "            model.fc.weight.data[:len(old_weight)] = old_weight\n",
        "            model.fc.bias.data[:len(old_bias)] = old_bias\n",
        "        \n",
        "        # Set up optimizer and scheduler\n",
        "        optimizer = optim.Adam(model.parameters(), lr=lr)\n",
        "        scheduler = lr_scheduler.StepLR(optimizer, step_size=5, gamma=0.5)\n",
        "        \n",
        "        print(f\"Starting Task {task+1} - Training on classes: {task_classes}\")\n",
        "        \n",
        "        # Training loop for current task\n",
        "        for epoch in range(num_epochs):\n",
        "            # Train with rehearsal and knowledge distillation\n",
        "            train_rehearsal_kd(model, old_model, train_loader, memory_buffer, optimizer, device, epoch, alpha=alpha, T=T)\n",
        "            scheduler.step()\n",
        "            \n",
        "            # Evaluate on training data\n",
        "            train_accuracy = evaluate(model, train_loader, device)\n",
        "            print(f\"Task {task+1}, Epoch {epoch+1}: Accuracy Train = {train_accuracy:.2f}%\")\n",
        "        \n",
        "        # After training, update memory buffer with examples from current task\n",
        "        for images, labels in train_loader:\n",
        "            memory_buffer.update(images, labels, task_classes)\n",
        "            break  # Just use one batch to update memory (for efficiency)\n",
        "        \n",
        "        # Evaluate on test data (all classes seen so far)\n",
        "        accuracy = evaluate(model, test_loader, device)\n",
        "        accuracies.append(accuracy)\n",
        "        print(f\"Task {task+1}: Accuracy Test = {accuracy:.2f}%\")\n",
        "    \n",
        "    return accuracies\n",
        "\n",
        "\n",
        "#Incremental Learning with Rehearsal and KD for WandB\n",
        "def incremental_learning_rehearsal_kd_wandb(model, train_dataset, train_target, test_dataset, test_target,\n",
        "                                           num_tasks, classes_per_task, batch_size, num_epochs, lr, device,\n",
        "                                           buffer_size=200, alpha=0.5, T=2.0):\n",
        "    \"\"\"\n",
        "    Incremental learning with rehearsal and knowledge distillation for WandB logging.\n",
        "    \"\"\"\n",
        "    nclasses = len(np.unique(train_target))\n",
        "    all_classes = list(range(nclasses))\n",
        "    current_classes = []\n",
        "    accuracies = []\n",
        "    \n",
        "    # Initialize memory buffer\n",
        "    memory_buffer = MemoryBuffer(buffer_size)\n",
        "    \n",
        "    # Setup WandB metrics\n",
        "    wandb.define_metric(\"task\")\n",
        "    wandb.define_metric(\"incremental_accuracy\", step_metric=\"task\")\n",
        "    \n",
        "    for task in range(num_tasks):\n",
        "        # Define classes for the current task\n",
        "        task_classes = all_classes[task * classes_per_task : (task + 1) * classes_per_task]\n",
        "        current_classes.extend(task_classes)\n",
        "        \n",
        "        # Create data loaders\n",
        "        train_loader = create_dataloader(train_dataset, train_target, task_classes, batch_size, shuffle=True)\n",
        "        test_loader = create_dataloader(test_dataset, test_target, current_classes, batch_size, shuffle=False)\n",
        "        \n",
        "        # Create a copy of the current model before task learning (for knowledge distillation)\n",
        "        old_model = copy.deepcopy(model) if task > 0 else None\n",
        "        if old_model is not None:\n",
        "            old_model.eval()\n",
        "        \n",
        "        # Modify the model's output layer for new classes\n",
        "        if task == 0:\n",
        "            model.fc = nn.Linear(model.fc.in_features, len(current_classes)).to(device)\n",
        "        else:\n",
        "            # Expand the output layer for new classes\n",
        "            old_weight = model.fc.weight.data\n",
        "            old_bias = model.fc.bias.data\n",
        "            model.fc = nn.Linear(model.fc.in_features, len(current_classes)).to(device)\n",
        "            model.fc.weight.data[:len(old_weight)] = old_weight\n",
        "            model.fc.bias.data[:len(old_bias)] = old_bias\n",
        "        \n",
        "        # Set up optimizer and scheduler\n",
        "        optimizer = optim.Adam(model.parameters(), lr=lr)\n",
        "        scheduler = lr_scheduler.StepLR(optimizer, step_size=5, gamma=0.5)\n",
        "        \n",
        "        print(f\"Starting Task {task+1} - Training on classes: {task_classes}\")\n",
        "        \n",
        "        # Training loop for current task\n",
        "        for epoch in range(num_epochs):\n",
        "            # Train with rehearsal and knowledge distillation\n",
        "            train_rehearsal_kd(model, old_model, train_loader, memory_buffer, optimizer, device, epoch, alpha=alpha, T=T)\n",
        "            scheduler.step()\n",
        "            \n",
        "            # Evaluate on training data\n",
        "            train_accuracy = evaluate(model, train_loader, device)\n",
        "            print(f\"Task {task+1}, Epoch {epoch+1}: Accuracy Train = {train_accuracy:.2f}%\")\n",
        "            \n",
        "            # Log to WandB\n",
        "            wandb.log({\"train/train_accuracy\": train_accuracy})\n",
        "        \n",
        "        # After training, update memory buffer with examples from current task\n",
        "        for images, labels in train_loader:\n",
        "            memory_buffer.update(images, labels, task_classes)\n",
        "            break  # Just use one batch to update memory\n",
        "        \n",
        "        # Evaluate on test data (all classes seen so far)\n",
        "        accuracy = evaluate(model, test_loader, device)\n",
        "        accuracies.append(accuracy)\n",
        "        print(f\"Task {task+1}: Accuracy Test = {accuracy:.2f}%\")\n",
        "        \n",
        "        # Log incremental accuracy to WandB\n",
        "        wandb.log({\"incremental_accuracy\": accuracy, \"task\": task})\n",
        "    \n",
        "    return accuracies"
      ]
    },
    {
      "cell_type": "markdown",
      "metadata": {
        "id": "Uio21fDojgTD"
      },
      "source": [
        "## Weight & Biases\n",
        "\n",
        "You can use this environement to log your learning.\n",
        "\n",
        "The code below provides a version of the class incremental function that stores learning curves and the seauence of accuracies for each increment of classes.\n",
        "\n",
        "Tu use it, create an account at: https://wandb.ai/"
      ]
    },
    {
      "cell_type": "code",
      "execution_count": 65,
      "metadata": {
        "colab": {
          "base_uri": "https://localhost:8080/",
          "height": 190
        },
        "id": "B98gHkBTHUbX",
        "outputId": "397ecb27-d076-4c43-d780-b3f8a85f633b"
      },
      "outputs": [
        {
          "name": "stderr",
          "output_type": "stream",
          "text": [
            "\u001b[34m\u001b[1mwandb\u001b[0m: \u001b[33mWARNING\u001b[0m If you're specifying your api key in code, ensure this code is not shared publicly.\n",
            "\u001b[34m\u001b[1mwandb\u001b[0m: \u001b[33mWARNING\u001b[0m Consider setting the WANDB_API_KEY environment variable, or running `wandb login` from the command line.\n",
            "\u001b[34m\u001b[1mwandb\u001b[0m: Appending key for api.wandb.ai to your netrc file: /Users/nada/.netrc\n"
          ]
        },
        {
          "data": {
            "text/plain": [
              "True"
            ]
          },
          "execution_count": 65,
          "metadata": {},
          "output_type": "execute_result"
        }
      ],
      "source": [
        "###################################\n",
        "##### For using Weight & Biases\n",
        "###############\n",
        "\n",
        "#!pip install wandb -qU\n",
        "\n",
        "#import wandb\n",
        "\n",
        "#wandb.login()\n",
        "import wandb\n",
        "\n",
        "wandb.login(key=\"425b3742039350921379a12e9ef4f7c33878e2d2\") #Nada API key\n"
      ]
    },
    {
      "cell_type": "code",
      "execution_count": 66,
      "metadata": {
        "id": "AC_ixhkpOFZj"
      },
      "outputs": [],
      "source": [
        "import math\n",
        "# Simple Training loop\n",
        "def train_wandb(model, train_loader, optimizer, criterion, device, epoch):\n",
        "\n",
        "    step_ct = 0\n",
        "    n_steps_per_epoch = math.ceil(len(train_loader.dataset) / train_loader.batch_size)\n",
        "\n",
        "    model.train()\n",
        "\n",
        "    for step, (images, labels) in tqdm(enumerate(train_loader), ncols=80,  desc=\"Epoch {}\".format(epoch)):\n",
        "        images, labels = images.to(device), labels.to(device)\n",
        "        optimizer.zero_grad()\n",
        "        outputs = model(images)\n",
        "        loss = criterion(outputs, labels)\n",
        "        loss.backward()\n",
        "        optimizer.step()\n",
        "\n",
        "        metrics = {\"train/train_loss\": loss}\n",
        "        # metrics = {\"train/train_loss\": loss,\n",
        "        #             \"train/epoch\": (step + 1 + (n_steps_per_epoch * epoch)) / n_steps_per_epoch}\n",
        "\n",
        "        if step + 1 < n_steps_per_epoch:\n",
        "          # Log train metrics to wandb\n",
        "          wandb.log(metrics)\n",
        "        step_ct += 1\n",
        "\n",
        "\n",
        "# Main training loop for incremental learning\n",
        "def incremental_learning_wandb(model, train_dataset, train_target, test_dataset, test_target,\n",
        "                         num_tasks, classes_per_task, batch_size, num_epochs, lr, device, non_incremental = False):\n",
        "    nclasses = len(np.unique(train_target))\n",
        "    all_classes = list(range(nclasses))\n",
        "    criterion = nn.CrossEntropyLoss()\n",
        "    current_classes = []\n",
        "    accuracies = []\n",
        "\n",
        "    # Copy your config\n",
        "    config = wandb.config\n",
        "\n",
        "    wandb.define_metric(\"task\")\n",
        "    wandb.define_metric(\"incremental_accuracy\", step_metric=\"task\")\n",
        "\n",
        "    for task in range(num_tasks):\n",
        "        if non_incremental == True: # Learn from all available data\n",
        "          task_classes = all_classes[0 : (task + 1) * classes_per_task]\n",
        "          current_classes = task_classes\n",
        "          model.apply(initialize_weights)\n",
        "        else:\n",
        "          task_classes = all_classes[task * classes_per_task : (task + 1) * classes_per_task]\n",
        "          current_classes.extend(task_classes)\n",
        "\n",
        "        train_loader = create_dataloader(train_dataset, train_target, task_classes, batch_size, shuffle = True)\n",
        "        test_loader = create_dataloader(test_dataset, test_target, current_classes, batch_size, shuffle = False)\n",
        "\n",
        "        if task == 0 or non_incremental == True:\n",
        "            model.fc = nn.Linear(model.fc.in_features, len(current_classes)).to(device)\n",
        "        else:\n",
        "            # Expand the output layer for new classes\n",
        "            old_weight = model.fc.weight.data\n",
        "            old_bias = model.fc.bias.data\n",
        "            model.fc = nn.Linear(model.fc.in_features, len(current_classes)).to(device)\n",
        "            model.fc.weight.data[:len(old_weight)] = old_weight\n",
        "            model.fc.bias.data[:len(old_bias)] = old_bias\n",
        "\n",
        "        optimizer = optim.SGD(model.parameters(), lr=lr, momentum=0.9, weight_decay=5e-4)\n",
        "        optimizer = torch.optim.Adam(model.parameters(), lr=lr)\n",
        "        scheduler = lr_scheduler.StepLR(optimizer, step_size=5, gamma=0.5)\n",
        "\n",
        "        print(f\"Starting Task {task+1} - Training on classes: {task_classes}\")\n",
        "        for epoch in range(num_epochs): # Adjust number of epochs\n",
        "            #train(model, train_loader, optimizer, criterion, device, epoch)\n",
        "\n",
        "            # If logging training (but not incremental)\n",
        "            train_wandb(model, train_loader, optimizer, criterion, device, epoch)\n",
        "\n",
        "            scheduler.step()\n",
        "            accuracy = evaluate(model, train_loader, device)\n",
        "            print(f\"Task {task+1}, Epoch {epoch+1}: Accuracy Train = {accuracy:.2f}%\")\n",
        "\n",
        "            val_metrics = {\"val/val_accuracy\": accuracy}\n",
        "            #wandb.log({**val_metrics})\n",
        "\n",
        "        accuracy = evaluate(model, test_loader, device)\n",
        "        accuracies.append(accuracy)\n",
        "        print(f\"Task {task+1}: Accuracy Test = {accuracy:.2f}%\")\n",
        "\n",
        "        incremental_metrics = {\"incremental_accuracy\": accuracy, \"task\": task}\n",
        "        wandb.log({**incremental_metrics})\n",
        "\n",
        "        # Log train and validation metrics to wandb\n",
        "\n",
        "    return accuracies\n",
        "\n"
      ]
    },
    {
      "cell_type": "markdown",
      "metadata": {
        "id": "bAaNngOPM0Sq"
      },
      "source": [
        "## Pre-Training"
      ]
    },
    {
      "cell_type": "code",
      "execution_count": 67,
      "metadata": {
        "colab": {
          "base_uri": "https://localhost:8080/"
        },
        "id": "VgJ8qN2tNDLh",
        "outputId": "e4712a34-cd76-4ce0-f134-dfc0b1d53ecd"
      },
      "outputs": [
        {
          "name": "stdout",
          "output_type": "stream",
          "text": [
            "Load pre-trained network\n"
          ]
        }
      ],
      "source": [
        "# Hyperparameters\n",
        "root_dir = './data'  # Path to GTSRB dataset\n",
        "num_tasks = 5\n",
        "numclasses = len(np.unique(train_target))\n",
        "classes_per_task = numclasses // num_tasks #43/2 ~ 20\n",
        "batch_size = 64\n",
        "lr = 1e-3\n",
        "device = torch.device(\"cuda\" if torch.cuda.is_available() else \"cpu\")\n",
        "\n",
        "buffer_size = 200 # Adjust rehearsal set size\n",
        "alpha = 0.5 # Weight for balancing CE and KD loss\n",
        "T = 2.0 # Temperature for knowledge distillation\n",
        "alignment_strength = 0.1 # Adjust alignment strength\n",
        "num_epochs = 4\n",
        "\n",
        "#model = SimpleCNN(n_out = 1, n_in = 3).to(device)\n",
        "#model.apply(initialize_weights)\n",
        "\n",
        "# The name of the network (choose the on you want)\n",
        "tag = \"simpleCNN_GTSRB_pretrained\"\n",
        "netname = os.path.join(root_dir, 'network_{:s}.pth'.format(tag))\n",
        "\n",
        "#################################################\n",
        "## Pre-training\n",
        "####\n",
        "\n",
        "# Read the last learned network (if stored)\n",
        "if (os.path.exists(netname)):\n",
        "    print('Load pre-trained network')\n",
        "    model = SimpleCNN(n_in = 3, n_out=classes_per_task)\n",
        "    model.load_state_dict(torch.load(netname,weights_only=True))\n",
        "\n",
        "    #model = torch.load(netname, weights_only=True)\n",
        "    model = model.to(device)\n",
        "else:\n",
        "    print('Pretrain')\n",
        "    model = SimpleCNN(n_in = 3, n_out=1)\n",
        "    model.apply(initialize_weights)\n",
        "    model.to(device)\n",
        "\n",
        "    accu = incremental_learning(model, train_dataset, train_target, test_dataset, test_target,\n",
        "                        1, classes_per_task, batch_size, num_epochs, lr, device)\n",
        "\n",
        "    print(f\"!!!!! Pre-training on first task  = {accu[0]:.2f}%\")\n",
        "\n",
        "    # Save last learned model\n",
        "    #torch.save(model, netname)\n",
        "    torch.save(model.state_dict(), netname)\n",
        "\n",
        "## Copy model to have the same initialization\n",
        "copy_model = copy.deepcopy(model) # Copy model to start from the same initialization\n",
        "\n",
        "#### Learn with a single epoch in incremental (faster but less accurate)\n",
        "num_epochs = 1\n"
      ]
    },
    {
      "cell_type": "markdown",
      "metadata": {
        "id": "93lWmMn2Nnnw"
      },
      "source": [
        "## Fine tuning"
      ]
    },
    {
      "cell_type": "code",
      "execution_count": 68,
      "metadata": {
        "colab": {
          "base_uri": "https://localhost:8080/",
          "height": 1000
        },
        "id": "Tla2raJ7Nn_o",
        "outputId": "39da70e6-5b72-4505-b9f3-14861ba191bf"
      },
      "outputs": [
        {
          "data": {
            "text/html": [
              "Tracking run with wandb version 0.19.6"
            ],
            "text/plain": [
              "<IPython.core.display.HTML object>"
            ]
          },
          "metadata": {},
          "output_type": "display_data"
        },
        {
          "data": {
            "text/html": [
              "Run data is saved locally in <code>/Users/nada/Downloads/wandb/run-20250311_213640-pnydftew</code>"
            ],
            "text/plain": [
              "<IPython.core.display.HTML object>"
            ]
          },
          "metadata": {},
          "output_type": "display_data"
        },
        {
          "data": {
            "text/html": [
              "Syncing run <strong><a href='https://wandb.ai/mhiriganada-iogs/GTSRB-CIL/runs/pnydftew' target=\"_blank\">Fine tuning</a></strong> to <a href='https://wandb.ai/mhiriganada-iogs/GTSRB-CIL' target=\"_blank\">Weights & Biases</a> (<a href='https://wandb.me/developer-guide' target=\"_blank\">docs</a>)<br>"
            ],
            "text/plain": [
              "<IPython.core.display.HTML object>"
            ]
          },
          "metadata": {},
          "output_type": "display_data"
        },
        {
          "data": {
            "text/html": [
              " View project at <a href='https://wandb.ai/mhiriganada-iogs/GTSRB-CIL' target=\"_blank\">https://wandb.ai/mhiriganada-iogs/GTSRB-CIL</a>"
            ],
            "text/plain": [
              "<IPython.core.display.HTML object>"
            ]
          },
          "metadata": {},
          "output_type": "display_data"
        },
        {
          "data": {
            "text/html": [
              " View run at <a href='https://wandb.ai/mhiriganada-iogs/GTSRB-CIL/runs/pnydftew' target=\"_blank\">https://wandb.ai/mhiriganada-iogs/GTSRB-CIL/runs/pnydftew</a>"
            ],
            "text/plain": [
              "<IPython.core.display.HTML object>"
            ]
          },
          "metadata": {},
          "output_type": "display_data"
        },
        {
          "name": "stdout",
          "output_type": "stream",
          "text": [
            "Starting Task 1 - Training on classes: [0, 1, 2, 3, 4, 5, 6, 7]\n"
          ]
        },
        {
          "name": "stderr",
          "output_type": "stream",
          "text": [
            "Epoch 0: 125it [00:08, 14.52it/s]\n",
            "100%|█████████████████████████████████████████| 125/125 [00:04<00:00, 29.12it/s]\n"
          ]
        },
        {
          "name": "stdout",
          "output_type": "stream",
          "text": [
            "Task 1, Epoch 1: Accuracy Train = 95.04%\n"
          ]
        },
        {
          "name": "stderr",
          "output_type": "stream",
          "text": [
            "100%|███████████████████████████████████████████| 61/61 [00:02<00:00, 27.11it/s]\n"
          ]
        },
        {
          "name": "stdout",
          "output_type": "stream",
          "text": [
            "Task 1: Accuracy Test = 84.50%\n",
            "Starting Task 2 - Training on classes: [8, 9, 10, 11, 12, 13, 14, 15]\n"
          ]
        },
        {
          "name": "stderr",
          "output_type": "stream",
          "text": [
            "Epoch 0: 126it [00:08, 15.18it/s]\n",
            "100%|█████████████████████████████████████████| 126/126 [00:04<00:00, 28.74it/s]\n"
          ]
        },
        {
          "name": "stdout",
          "output_type": "stream",
          "text": [
            "Task 2, Epoch 1: Accuracy Train = 99.03%\n"
          ]
        },
        {
          "name": "stderr",
          "output_type": "stream",
          "text": [
            "100%|█████████████████████████████████████████| 122/122 [00:04<00:00, 30.35it/s]\n"
          ]
        },
        {
          "name": "stdout",
          "output_type": "stream",
          "text": [
            "Task 2: Accuracy Test = 48.07%\n",
            "Starting Task 3 - Training on classes: [16, 17, 18, 19, 20, 21, 22, 23]\n"
          ]
        },
        {
          "name": "stderr",
          "output_type": "stream",
          "text": [
            "Epoch 0: 49it [00:02, 16.41it/s]\n",
            "100%|███████████████████████████████████████████| 49/49 [00:01<00:00, 37.64it/s]\n"
          ]
        },
        {
          "name": "stdout",
          "output_type": "stream",
          "text": [
            "Task 3, Epoch 1: Accuracy Train = 97.12%\n"
          ]
        },
        {
          "name": "stderr",
          "output_type": "stream",
          "text": [
            "100%|█████████████████████████████████████████| 144/144 [00:04<00:00, 30.51it/s]\n"
          ]
        },
        {
          "name": "stdout",
          "output_type": "stream",
          "text": [
            "Task 3: Accuracy Test = 11.95%\n",
            "Starting Task 4 - Training on classes: [24, 25, 26, 27, 28, 29, 30, 31]\n"
          ]
        },
        {
          "name": "stderr",
          "output_type": "stream",
          "text": [
            "Epoch 0: 50it [00:03, 16.44it/s]\n",
            "100%|███████████████████████████████████████████| 50/50 [00:01<00:00, 37.21it/s]\n"
          ]
        },
        {
          "name": "stdout",
          "output_type": "stream",
          "text": [
            "Task 4, Epoch 1: Accuracy Train = 90.85%\n"
          ]
        },
        {
          "name": "stderr",
          "output_type": "stream",
          "text": [
            "100%|█████████████████████████████████████████| 167/167 [00:05<00:00, 29.82it/s]\n"
          ]
        },
        {
          "name": "stdout",
          "output_type": "stream",
          "text": [
            "Task 4: Accuracy Test = 10.22%\n",
            "Starting Task 5 - Training on classes: [32, 33, 34, 35, 36, 37, 38, 39]\n"
          ]
        },
        {
          "name": "stderr",
          "output_type": "stream",
          "text": [
            "Epoch 0: 60it [00:03, 16.52it/s]\n",
            "100%|███████████████████████████████████████████| 60/60 [00:01<00:00, 38.84it/s]\n"
          ]
        },
        {
          "name": "stdout",
          "output_type": "stream",
          "text": [
            "Task 5, Epoch 1: Accuracy Train = 98.81%\n"
          ]
        },
        {
          "name": "stderr",
          "output_type": "stream",
          "text": [
            "100%|█████████████████████████████████████████| 194/194 [00:06<00:00, 30.84it/s]"
          ]
        },
        {
          "name": "stdout",
          "output_type": "stream",
          "text": [
            "Task 5: Accuracy Test = 12.50%\n"
          ]
        },
        {
          "name": "stderr",
          "output_type": "stream",
          "text": [
            "\n"
          ]
        },
        {
          "data": {
            "text/html": [],
            "text/plain": [
              "<IPython.core.display.HTML object>"
            ]
          },
          "metadata": {},
          "output_type": "display_data"
        },
        {
          "data": {
            "text/html": [
              "<br>    <style><br>        .wandb-row {<br>            display: flex;<br>            flex-direction: row;<br>            flex-wrap: wrap;<br>            justify-content: flex-start;<br>            width: 100%;<br>        }<br>        .wandb-col {<br>            display: flex;<br>            flex-direction: column;<br>            flex-basis: 100%;<br>            flex: 1;<br>            padding: 10px;<br>        }<br>    </style><br><div class=\"wandb-row\"><div class=\"wandb-col\"><h3>Run history:</h3><br/><table class=\"wandb\"><tr><td>incremental_accuracy</td><td>█▅▁▁▁</td></tr><tr><td>task</td><td>▁▃▅▆█</td></tr><tr><td>train/train_loss</td><td>▃▂▁▁▁▁▁▁▁▁▁▁▁▁▁▁▁▁▁▁▁▁▁▁▁▁▂▂▁▁█▃▂▂▂▁▁▂▁▁</td></tr></table><br/></div><div class=\"wandb-col\"><h3>Run summary:</h3><br/><table class=\"wandb\"><tr><td>incremental_accuracy</td><td>12.50202</td></tr><tr><td>task</td><td>4</td></tr><tr><td>train/train_loss</td><td>0.07635</td></tr></table><br/></div></div>"
            ],
            "text/plain": [
              "<IPython.core.display.HTML object>"
            ]
          },
          "metadata": {},
          "output_type": "display_data"
        },
        {
          "data": {
            "text/html": [
              " View run <strong style=\"color:#cdcd00\">Fine tuning</strong> at: <a href='https://wandb.ai/mhiriganada-iogs/GTSRB-CIL/runs/pnydftew' target=\"_blank\">https://wandb.ai/mhiriganada-iogs/GTSRB-CIL/runs/pnydftew</a><br> View project at: <a href='https://wandb.ai/mhiriganada-iogs/GTSRB-CIL' target=\"_blank\">https://wandb.ai/mhiriganada-iogs/GTSRB-CIL</a><br>Synced 5 W&B file(s), 0 media file(s), 0 artifact file(s) and 0 other file(s)"
            ],
            "text/plain": [
              "<IPython.core.display.HTML object>"
            ]
          },
          "metadata": {},
          "output_type": "display_data"
        },
        {
          "data": {
            "text/html": [
              "Find logs at: <code>./wandb/run-20250311_213640-pnydftew/logs</code>"
            ],
            "text/plain": [
              "<IPython.core.display.HTML object>"
            ]
          },
          "metadata": {},
          "output_type": "display_data"
        }
      ],
      "source": [
        "#############################################\n",
        "## Fine tuning\n",
        "####\n",
        "# initialise a wandb run\n",
        "run = wandb.init(\n",
        "    project=\"GTSRB-CIL\",\n",
        "    name = \"Fine tuning\",\n",
        "    config={\n",
        "        \"epochs\": num_epochs,\n",
        "        \"batch_size\": batch_size,\n",
        "        \"num_tasks\": num_tasks,\n",
        "        \"classes_per_task\": classes_per_task,\n",
        "        \"lr\": lr,\n",
        "        })\n",
        "\n",
        "# Simple Incremental Fine Tuning\n",
        "model = copy.deepcopy(copy_model)\n",
        "incremental_learning_wandb(model, train_dataset, train_target, test_dataset, test_target,\n",
        "                      num_tasks, classes_per_task, batch_size, num_epochs, lr, device)\n",
        "wandb.finish()"
      ]
    },
    {
      "cell_type": "markdown",
      "metadata": {},
      "source": [
        "## Running Incremental Learning with Rehearsal and Knowledge Distillation (WandB)\n",
        "\n",
        "This section trains the model incrementally using Rehearsal and Knowledge Distillation (KD) while tracking performance with Weights & Biases (WandB).\n",
        "\n",
        "1. WandB Logging : A new experiment is initialized with key hyperparameters (e.g., number of epochs, batch size, learning rate, buffer size).\n",
        "2. Model Training : The incremental_learning_rehearsal_kd_wandb function is executed to sequentially introduce new classes while mitigating catastrophic forgetting.\n",
        "3. Experiment Tracking : After training, WandB logs results, allowing visualization of incremental accuracy and model progression."
      ]
    },
    {
      "cell_type": "code",
      "execution_count": null,
      "metadata": {},
      "outputs": [
        {
          "data": {
            "text/html": [
              "Tracking run with wandb version 0.19.6"
            ],
            "text/plain": [
              "<IPython.core.display.HTML object>"
            ]
          },
          "metadata": {},
          "output_type": "display_data"
        },
        {
          "data": {
            "text/html": [
              "Run data is saved locally in <code>/Users/nada/Downloads/wandb/run-20250311_213745-fstqyh1b</code>"
            ],
            "text/plain": [
              "<IPython.core.display.HTML object>"
            ]
          },
          "metadata": {},
          "output_type": "display_data"
        },
        {
          "data": {
            "text/html": [
              "Syncing run <strong><a href='https://wandb.ai/mhiriganada-iogs/GTSRB-CIL/runs/fstqyh1b' target=\"_blank\">Rehearsal + KD</a></strong> to <a href='https://wandb.ai/mhiriganada-iogs/GTSRB-CIL' target=\"_blank\">Weights & Biases</a> (<a href='https://wandb.me/developer-guide' target=\"_blank\">docs</a>)<br>"
            ],
            "text/plain": [
              "<IPython.core.display.HTML object>"
            ]
          },
          "metadata": {},
          "output_type": "display_data"
        },
        {
          "data": {
            "text/html": [
              " View project at <a href='https://wandb.ai/mhiriganada-iogs/GTSRB-CIL' target=\"_blank\">https://wandb.ai/mhiriganada-iogs/GTSRB-CIL</a>"
            ],
            "text/plain": [
              "<IPython.core.display.HTML object>"
            ]
          },
          "metadata": {},
          "output_type": "display_data"
        },
        {
          "data": {
            "text/html": [
              " View run at <a href='https://wandb.ai/mhiriganada-iogs/GTSRB-CIL/runs/fstqyh1b' target=\"_blank\">https://wandb.ai/mhiriganada-iogs/GTSRB-CIL/runs/fstqyh1b</a>"
            ],
            "text/plain": [
              "<IPython.core.display.HTML object>"
            ]
          },
          "metadata": {},
          "output_type": "display_data"
        },
        {
          "name": "stdout",
          "output_type": "stream",
          "text": [
            "Starting Task 1 - Training on classes: [0, 1, 2, 3, 4, 5, 6, 7]\n"
          ]
        },
        {
          "name": "stderr",
          "output_type": "stream",
          "text": [
            "Epoch 0: 100%|████████████████████████████████| 125/125 [00:07<00:00, 16.65it/s]\n",
            "100%|█████████████████████████████████████████| 125/125 [00:04<00:00, 30.43it/s]\n"
          ]
        },
        {
          "name": "stdout",
          "output_type": "stream",
          "text": [
            "Task 1, Epoch 1: Accuracy Train = 96.59%\n"
          ]
        },
        {
          "name": "stderr",
          "output_type": "stream",
          "text": [
            "100%|███████████████████████████████████████████| 61/61 [00:02<00:00, 29.16it/s]\n"
          ]
        },
        {
          "name": "stdout",
          "output_type": "stream",
          "text": [
            "Task 1: Accuracy Test = 86.74%\n",
            "Starting Task 2 - Training on classes: [8, 9, 10, 11, 12, 13, 14, 15]\n"
          ]
        },
        {
          "name": "stderr",
          "output_type": "stream",
          "text": [
            "Epoch 0: 100%|████████████████████████████████| 126/126 [00:12<00:00, 10.48it/s]\n",
            "100%|█████████████████████████████████████████| 126/126 [00:04<00:00, 27.69it/s]\n"
          ]
        },
        {
          "name": "stdout",
          "output_type": "stream",
          "text": [
            "Task 2, Epoch 1: Accuracy Train = 99.31%\n"
          ]
        },
        {
          "name": "stderr",
          "output_type": "stream",
          "text": [
            "100%|█████████████████████████████████████████| 122/122 [00:04<00:00, 28.74it/s]\n"
          ]
        },
        {
          "name": "stdout",
          "output_type": "stream",
          "text": [
            "Task 2: Accuracy Test = 79.59%\n",
            "Starting Task 3 - Training on classes: [16, 17, 18, 19, 20, 21, 22, 23]\n"
          ]
        },
        {
          "name": "stderr",
          "output_type": "stream",
          "text": [
            "Epoch 0: 100%|██████████████████████████████████| 49/49 [00:04<00:00, 10.19it/s]\n",
            "100%|███████████████████████████████████████████| 49/49 [00:01<00:00, 35.26it/s]\n"
          ]
        },
        {
          "name": "stdout",
          "output_type": "stream",
          "text": [
            "Task 3, Epoch 1: Accuracy Train = 98.72%\n"
          ]
        },
        {
          "name": "stderr",
          "output_type": "stream",
          "text": [
            "100%|█████████████████████████████████████████| 144/144 [00:04<00:00, 29.03it/s]\n"
          ]
        },
        {
          "name": "stdout",
          "output_type": "stream",
          "text": [
            "Task 3: Accuracy Test = 71.43%\n",
            "Starting Task 4 - Training on classes: [24, 25, 26, 27, 28, 29, 30, 31]\n"
          ]
        },
        {
          "name": "stderr",
          "output_type": "stream",
          "text": [
            "Epoch 0: 100%|██████████████████████████████████| 50/50 [00:04<00:00, 10.05it/s]\n",
            "100%|███████████████████████████████████████████| 50/50 [00:01<00:00, 34.06it/s]\n"
          ]
        },
        {
          "name": "stdout",
          "output_type": "stream",
          "text": [
            "Task 4, Epoch 1: Accuracy Train = 97.99%\n"
          ]
        },
        {
          "name": "stderr",
          "output_type": "stream",
          "text": [
            "100%|█████████████████████████████████████████| 167/167 [00:05<00:00, 28.99it/s]\n"
          ]
        },
        {
          "name": "stdout",
          "output_type": "stream",
          "text": [
            "Task 4: Accuracy Test = 61.31%\n",
            "Starting Task 5 - Training on classes: [32, 33, 34, 35, 36, 37, 38, 39]\n"
          ]
        },
        {
          "name": "stderr",
          "output_type": "stream",
          "text": [
            "Epoch 0: 100%|██████████████████████████████████| 60/60 [00:05<00:00, 10.23it/s]\n",
            "100%|███████████████████████████████████████████| 60/60 [00:01<00:00, 32.95it/s]\n"
          ]
        },
        {
          "name": "stdout",
          "output_type": "stream",
          "text": [
            "Task 5, Epoch 1: Accuracy Train = 99.52%\n"
          ]
        },
        {
          "name": "stderr",
          "output_type": "stream",
          "text": [
            "100%|█████████████████████████████████████████| 194/194 [00:06<00:00, 28.01it/s]"
          ]
        },
        {
          "name": "stdout",
          "output_type": "stream",
          "text": [
            "Task 5: Accuracy Test = 64.21%\n"
          ]
        },
        {
          "name": "stderr",
          "output_type": "stream",
          "text": [
            "\n"
          ]
        },
        {
          "data": {
            "text/html": [],
            "text/plain": [
              "<IPython.core.display.HTML object>"
            ]
          },
          "metadata": {},
          "output_type": "display_data"
        },
        {
          "data": {
            "text/html": [
              "<br>    <style><br>        .wandb-row {<br>            display: flex;<br>            flex-direction: row;<br>            flex-wrap: wrap;<br>            justify-content: flex-start;<br>            width: 100%;<br>        }<br>        .wandb-col {<br>            display: flex;<br>            flex-direction: column;<br>            flex-basis: 100%;<br>            flex: 1;<br>            padding: 10px;<br>        }<br>    </style><br><div class=\"wandb-row\"><div class=\"wandb-col\"><h3>Run history:</h3><br/><table class=\"wandb\"><tr><td>incremental_accuracy</td><td>█▆▄▁▂</td></tr><tr><td>task</td><td>▁▃▅▆█</td></tr><tr><td>train/train_accuracy</td><td>▁▇▆▄█</td></tr></table><br/></div><div class=\"wandb-col\"><h3>Run summary:</h3><br/><table class=\"wandb\"><tr><td>incremental_accuracy</td><td>64.205</td></tr><tr><td>task</td><td>4</td></tr><tr><td>train/train_accuracy</td><td>99.52381</td></tr></table><br/></div></div>"
            ],
            "text/plain": [
              "<IPython.core.display.HTML object>"
            ]
          },
          "metadata": {},
          "output_type": "display_data"
        },
        {
          "data": {
            "text/html": [
              " View run <strong style=\"color:#cdcd00\">Rehearsal + KD</strong> at: <a href='https://wandb.ai/mhiriganada-iogs/GTSRB-CIL/runs/fstqyh1b' target=\"_blank\">https://wandb.ai/mhiriganada-iogs/GTSRB-CIL/runs/fstqyh1b</a><br> View project at: <a href='https://wandb.ai/mhiriganada-iogs/GTSRB-CIL' target=\"_blank\">https://wandb.ai/mhiriganada-iogs/GTSRB-CIL</a><br>Synced 5 W&B file(s), 0 media file(s), 0 artifact file(s) and 0 other file(s)"
            ],
            "text/plain": [
              "<IPython.core.display.HTML object>"
            ]
          },
          "metadata": {},
          "output_type": "display_data"
        },
        {
          "data": {
            "text/html": [
              "Find logs at: <code>./wandb/run-20250311_213745-fstqyh1b/logs</code>"
            ],
            "text/plain": [
              "<IPython.core.display.HTML object>"
            ]
          },
          "metadata": {},
          "output_type": "display_data"
        }
      ],
      "source": [
        "# Rehearsal + Knowledge Distillation\n",
        "# initialize a wandb run for Rehearsal + KD\n",
        "run = wandb.init(\n",
        "    project=\"GTSRB-CIL\",\n",
        "    name=\"Rehearsal + KD\",\n",
        "    config={\n",
        "        \"epochs\": num_epochs,\n",
        "        \"batch_size\": batch_size,\n",
        "        \"num_tasks\": num_tasks,\n",
        "        \"classes_per_task\": classes_per_task,\n",
        "        \"lr\": lr,\n",
        "        \"buffer_size\": buffer_size,\n",
        "        \"alpha\": alpha,\n",
        "        \"temperature\": T,\n",
        "    })\n",
        "\n",
        "# Incremental learning with rehearsal and knowledge distillation\n",
        "model = copy.deepcopy(copy_model)\n",
        "incremental_learning_rehearsal_kd_wandb(model, train_dataset, train_target, test_dataset, test_target,\n",
        "                                       num_tasks, classes_per_task, batch_size, num_epochs, lr, device,\n",
        "                                       buffer_size=buffer_size, alpha=alpha, T=T)\n",
        "wandb.finish()"
      ]
    },
    {
      "cell_type": "markdown",
      "metadata": {
        "id": "TfV4H_gQlJOg"
      },
      "source": [
        "## Upper bound"
      ]
    },
    {
      "cell_type": "code",
      "execution_count": 70,
      "metadata": {
        "colab": {
          "base_uri": "https://localhost:8080/"
        },
        "id": "xs4duQSA3LY8",
        "outputId": "ab0c5768-7efd-415f-d2e5-12db7346f38f"
      },
      "outputs": [
        {
          "name": "stdout",
          "output_type": "stream",
          "text": [
            "Starting Task 1 - Training on classes: [0, 1, 2, 3, 4, 5, 6, 7, 8, 9, 10, 11, 12, 13, 14, 15, 16, 17, 18, 19, 20, 21, 22, 23, 24, 25, 26, 27, 28, 29, 30, 31, 32, 33, 34, 35, 36, 37, 38, 39]\n"
          ]
        },
        {
          "name": "stderr",
          "output_type": "stream",
          "text": [
            "Epoch 0:   0%|                                          | 0/407 [00:00<?, ?it/s]"
          ]
        },
        {
          "name": "stderr",
          "output_type": "stream",
          "text": [
            "Epoch 0: 100%|████████████████████████████████| 407/407 [00:26<00:00, 15.63it/s]\n",
            "100%|█████████████████████████████████████████| 407/407 [00:16<00:00, 25.13it/s]\n"
          ]
        },
        {
          "name": "stdout",
          "output_type": "stream",
          "text": [
            "Task 1, Epoch 1: Accuracy Train = 97.19%\n"
          ]
        },
        {
          "name": "stderr",
          "output_type": "stream",
          "text": [
            "Epoch 1: 100%|████████████████████████████████| 407/407 [00:26<00:00, 15.46it/s]\n",
            "100%|█████████████████████████████████████████| 407/407 [00:16<00:00, 24.69it/s]\n"
          ]
        },
        {
          "name": "stdout",
          "output_type": "stream",
          "text": [
            "Task 1, Epoch 2: Accuracy Train = 99.25%\n"
          ]
        },
        {
          "name": "stderr",
          "output_type": "stream",
          "text": [
            "Epoch 2: 100%|████████████████████████████████| 407/407 [00:26<00:00, 15.28it/s]\n",
            "100%|█████████████████████████████████████████| 407/407 [00:16<00:00, 24.69it/s]\n"
          ]
        },
        {
          "name": "stdout",
          "output_type": "stream",
          "text": [
            "Task 1, Epoch 3: Accuracy Train = 99.54%\n"
          ]
        },
        {
          "name": "stderr",
          "output_type": "stream",
          "text": [
            "Epoch 3: 100%|████████████████████████████████| 407/407 [00:26<00:00, 15.11it/s]\n",
            "100%|█████████████████████████████████████████| 407/407 [00:16<00:00, 24.41it/s]\n"
          ]
        },
        {
          "name": "stdout",
          "output_type": "stream",
          "text": [
            "Task 1, Epoch 4: Accuracy Train = 99.60%\n"
          ]
        },
        {
          "name": "stderr",
          "output_type": "stream",
          "text": [
            "Epoch 4: 100%|████████████████████████████████| 407/407 [00:34<00:00, 11.75it/s]\n",
            "100%|█████████████████████████████████████████| 407/407 [00:21<00:00, 18.73it/s]\n"
          ]
        },
        {
          "name": "stdout",
          "output_type": "stream",
          "text": [
            "Task 1, Epoch 5: Accuracy Train = 99.30%\n"
          ]
        },
        {
          "name": "stderr",
          "output_type": "stream",
          "text": [
            "100%|█████████████████████████████████████████| 194/194 [00:08<00:00, 23.70it/s]\n"
          ]
        },
        {
          "name": "stdout",
          "output_type": "stream",
          "text": [
            "Task 1: Accuracy Test = 88.43%\n",
            "!!!!! Upper bound of accuracy = 88.43%\n"
          ]
        }
      ],
      "source": [
        "#################################################\n",
        "## Global upper bound (all data, all classes)\n",
        "####\n",
        "\n",
        "# One task + all classes computed using 5 epochs\n",
        "\n",
        "model = copy.deepcopy(copy_model)\n",
        "accu = incremental_learning(model, train_dataset, train_target, test_dataset, test_target,\n",
        "                      1, (numclasses // num_tasks) * num_tasks, batch_size, 5, lr, device)\n",
        "\n",
        "print(f\"!!!!! Upper bound of accuracy = {accu[0]:.2f}%\")\n"
      ]
    },
    {
      "cell_type": "code",
      "execution_count": 71,
      "metadata": {
        "colab": {
          "base_uri": "https://localhost:8080/",
          "height": 1000
        },
        "id": "TQONaVy3MYRa",
        "outputId": "d568dd7e-fb14-465f-bed7-6187ba825f47"
      },
      "outputs": [
        {
          "data": {
            "text/html": [
              "Tracking run with wandb version 0.19.6"
            ],
            "text/plain": [
              "<IPython.core.display.HTML object>"
            ]
          },
          "metadata": {},
          "output_type": "display_data"
        },
        {
          "data": {
            "text/html": [
              "Run data is saved locally in <code>/Users/nada/Downloads/wandb/run-20250311_214256-b2c7gsf7</code>"
            ],
            "text/plain": [
              "<IPython.core.display.HTML object>"
            ]
          },
          "metadata": {},
          "output_type": "display_data"
        },
        {
          "data": {
            "text/html": [
              "Syncing run <strong><a href='https://wandb.ai/mhiriganada-iogs/GTSRB-CIL/runs/b2c7gsf7' target=\"_blank\">Upper bound</a></strong> to <a href='https://wandb.ai/mhiriganada-iogs/GTSRB-CIL' target=\"_blank\">Weights & Biases</a> (<a href='https://wandb.me/developer-guide' target=\"_blank\">docs</a>)<br>"
            ],
            "text/plain": [
              "<IPython.core.display.HTML object>"
            ]
          },
          "metadata": {},
          "output_type": "display_data"
        },
        {
          "data": {
            "text/html": [
              " View project at <a href='https://wandb.ai/mhiriganada-iogs/GTSRB-CIL' target=\"_blank\">https://wandb.ai/mhiriganada-iogs/GTSRB-CIL</a>"
            ],
            "text/plain": [
              "<IPython.core.display.HTML object>"
            ]
          },
          "metadata": {},
          "output_type": "display_data"
        },
        {
          "data": {
            "text/html": [
              " View run at <a href='https://wandb.ai/mhiriganada-iogs/GTSRB-CIL/runs/b2c7gsf7' target=\"_blank\">https://wandb.ai/mhiriganada-iogs/GTSRB-CIL/runs/b2c7gsf7</a>"
            ],
            "text/plain": [
              "<IPython.core.display.HTML object>"
            ]
          },
          "metadata": {},
          "output_type": "display_data"
        },
        {
          "name": "stdout",
          "output_type": "stream",
          "text": [
            "Starting Task 1 - Training on classes: [0, 1, 2, 3, 4, 5, 6, 7]\n"
          ]
        },
        {
          "name": "stderr",
          "output_type": "stream",
          "text": [
            "Epoch 0: 125it [00:10, 12.03it/s]\n",
            "100%|█████████████████████████████████████████| 125/125 [00:05<00:00, 23.78it/s]\n"
          ]
        },
        {
          "name": "stdout",
          "output_type": "stream",
          "text": [
            "Task 1, Epoch 1: Accuracy Train = 65.76%\n"
          ]
        },
        {
          "name": "stderr",
          "output_type": "stream",
          "text": [
            "100%|███████████████████████████████████████████| 61/61 [00:02<00:00, 23.35it/s]\n"
          ]
        },
        {
          "name": "stdout",
          "output_type": "stream",
          "text": [
            "Task 1: Accuracy Test = 49.77%\n",
            "Starting Task 2 - Training on classes: [0, 1, 2, 3, 4, 5, 6, 7, 8, 9, 10, 11, 12, 13, 14, 15]\n"
          ]
        },
        {
          "name": "stderr",
          "output_type": "stream",
          "text": [
            "Epoch 0: 250it [00:21, 11.47it/s]\n",
            "100%|█████████████████████████████████████████| 250/250 [00:10<00:00, 23.36it/s]\n"
          ]
        },
        {
          "name": "stdout",
          "output_type": "stream",
          "text": [
            "Task 2, Epoch 1: Accuracy Train = 91.75%\n"
          ]
        },
        {
          "name": "stderr",
          "output_type": "stream",
          "text": [
            "100%|█████████████████████████████████████████| 122/122 [00:05<00:00, 22.90it/s]\n"
          ]
        },
        {
          "name": "stdout",
          "output_type": "stream",
          "text": [
            "Task 2: Accuracy Test = 83.73%\n",
            "Starting Task 3 - Training on classes: [0, 1, 2, 3, 4, 5, 6, 7, 8, 9, 10, 11, 12, 13, 14, 15, 16, 17, 18, 19, 20, 21, 22, 23]\n"
          ]
        },
        {
          "name": "stderr",
          "output_type": "stream",
          "text": [
            "Epoch 0: 299it [00:23, 12.51it/s]\n",
            "100%|█████████████████████████████████████████| 299/299 [00:12<00:00, 23.33it/s]\n"
          ]
        },
        {
          "name": "stdout",
          "output_type": "stream",
          "text": [
            "Task 3, Epoch 1: Accuracy Train = 90.42%\n"
          ]
        },
        {
          "name": "stderr",
          "output_type": "stream",
          "text": [
            "100%|█████████████████████████████████████████| 144/144 [00:05<00:00, 25.42it/s]\n"
          ]
        },
        {
          "name": "stdout",
          "output_type": "stream",
          "text": [
            "Task 3: Accuracy Test = 79.56%\n",
            "Starting Task 4 - Training on classes: [0, 1, 2, 3, 4, 5, 6, 7, 8, 9, 10, 11, 12, 13, 14, 15, 16, 17, 18, 19, 20, 21, 22, 23, 24, 25, 26, 27, 28, 29, 30, 31]\n"
          ]
        },
        {
          "name": "stderr",
          "output_type": "stream",
          "text": [
            "Epoch 0: 348it [00:25, 13.62it/s]\n",
            "100%|█████████████████████████████████████████| 348/348 [00:15<00:00, 22.35it/s]\n"
          ]
        },
        {
          "name": "stdout",
          "output_type": "stream",
          "text": [
            "Task 4, Epoch 1: Accuracy Train = 92.61%\n"
          ]
        },
        {
          "name": "stderr",
          "output_type": "stream",
          "text": [
            "100%|█████████████████████████████████████████| 167/167 [00:06<00:00, 24.16it/s]\n"
          ]
        },
        {
          "name": "stdout",
          "output_type": "stream",
          "text": [
            "Task 4: Accuracy Test = 79.13%\n",
            "Starting Task 5 - Training on classes: [0, 1, 2, 3, 4, 5, 6, 7, 8, 9, 10, 11, 12, 13, 14, 15, 16, 17, 18, 19, 20, 21, 22, 23, 24, 25, 26, 27, 28, 29, 30, 31, 32, 33, 34, 35, 36, 37, 38, 39]\n"
          ]
        },
        {
          "name": "stderr",
          "output_type": "stream",
          "text": [
            "Epoch 0: 407it [00:30, 13.44it/s]\n",
            "100%|█████████████████████████████████████████| 407/407 [00:18<00:00, 22.20it/s]\n"
          ]
        },
        {
          "name": "stdout",
          "output_type": "stream",
          "text": [
            "Task 5, Epoch 1: Accuracy Train = 94.18%\n"
          ]
        },
        {
          "name": "stderr",
          "output_type": "stream",
          "text": [
            "100%|█████████████████████████████████████████| 194/194 [00:07<00:00, 24.28it/s]"
          ]
        },
        {
          "name": "stdout",
          "output_type": "stream",
          "text": [
            "Task 5: Accuracy Test = 81.36%\n"
          ]
        },
        {
          "name": "stderr",
          "output_type": "stream",
          "text": [
            "\n"
          ]
        },
        {
          "data": {
            "text/html": [],
            "text/plain": [
              "<IPython.core.display.HTML object>"
            ]
          },
          "metadata": {},
          "output_type": "display_data"
        },
        {
          "data": {
            "text/html": [
              "<br>    <style><br>        .wandb-row {<br>            display: flex;<br>            flex-direction: row;<br>            flex-wrap: wrap;<br>            justify-content: flex-start;<br>            width: 100%;<br>        }<br>        .wandb-col {<br>            display: flex;<br>            flex-direction: column;<br>            flex-basis: 100%;<br>            flex: 1;<br>            padding: 10px;<br>        }<br>    </style><br><div class=\"wandb-row\"><div class=\"wandb-col\"><h3>Run history:</h3><br/><table class=\"wandb\"><tr><td>incremental_accuracy</td><td>▁█▇▇█</td></tr><tr><td>task</td><td>▁▃▅▆█</td></tr><tr><td>train/train_loss</td><td>▅▅▄▂▇▂▂▇▅▃▂▂▂▂▂▁▂▂▁█▆▅▄▃▄▂▂▂▁▂▂█▆▄▄▃▂▁▁▁</td></tr></table><br/></div><div class=\"wandb-col\"><h3>Run summary:</h3><br/><table class=\"wandb\"><tr><td>incremental_accuracy</td><td>81.364</td></tr><tr><td>task</td><td>4</td></tr><tr><td>train/train_loss</td><td>0.16193</td></tr></table><br/></div></div>"
            ],
            "text/plain": [
              "<IPython.core.display.HTML object>"
            ]
          },
          "metadata": {},
          "output_type": "display_data"
        },
        {
          "data": {
            "text/html": [
              " View run <strong style=\"color:#cdcd00\">Upper bound</strong> at: <a href='https://wandb.ai/mhiriganada-iogs/GTSRB-CIL/runs/b2c7gsf7' target=\"_blank\">https://wandb.ai/mhiriganada-iogs/GTSRB-CIL/runs/b2c7gsf7</a><br> View project at: <a href='https://wandb.ai/mhiriganada-iogs/GTSRB-CIL' target=\"_blank\">https://wandb.ai/mhiriganada-iogs/GTSRB-CIL</a><br>Synced 5 W&B file(s), 0 media file(s), 0 artifact file(s) and 0 other file(s)"
            ],
            "text/plain": [
              "<IPython.core.display.HTML object>"
            ]
          },
          "metadata": {},
          "output_type": "display_data"
        },
        {
          "data": {
            "text/html": [
              "Find logs at: <code>./wandb/run-20250311_214256-b2c7gsf7/logs</code>"
            ],
            "text/plain": [
              "<IPython.core.display.HTML object>"
            ]
          },
          "metadata": {},
          "output_type": "display_data"
        }
      ],
      "source": [
        "########################################\n",
        "## Upper bound for each task (takes some time)\n",
        "####\n",
        "# initialise a wandb run\n",
        "run = wandb.init(\n",
        "    project=\"GTSRB-CIL\",\n",
        "    name = \"Upper bound\",\n",
        "    config={\n",
        "        \"epochs\": num_epochs,\n",
        "        \"batch_size\": batch_size,\n",
        "        \"num_tasks\": num_tasks,\n",
        "        \"classes_per_task\": classes_per_task,\n",
        "        \"lr\": lr,\n",
        "        })\n",
        "\n",
        "# Non incremental data (learn all classes from all data for each task)\n",
        "model = copy.deepcopy(copy_model)\n",
        "incremental_learning_wandb(model, train_dataset, train_target, test_dataset, test_target,\n",
        "                      num_tasks, classes_per_task, batch_size, num_epochs, lr, device, non_incremental = True)\n",
        "\n",
        "wandb.finish()"
      ]
    }
  ],
  "metadata": {
    "accelerator": "GPU",
    "colab": {
      "gpuType": "T4",
      "provenance": [],
      "toc_visible": true
    },
    "kernelspec": {
      "display_name": ".venv",
      "language": "python",
      "name": "python3"
    },
    "language_info": {
      "codemirror_mode": {
        "name": "ipython",
        "version": 3
      },
      "file_extension": ".py",
      "mimetype": "text/x-python",
      "name": "python",
      "nbconvert_exporter": "python",
      "pygments_lexer": "ipython3",
      "version": "3.8.9"
    }
  },
  "nbformat": 4,
  "nbformat_minor": 0
}
